{
 "cells": [
  {
   "cell_type": "markdown",
   "metadata": {},
   "source": [
    "# Architectural factor binding in YY1-AID cells\n",
    "Goal: determine whether Rad21 binding patterns change after depletion of YY1 (in the YY1-AID7 cell line, 4hr auxin treatment, asynchronous cells"
   ]
  },
  {
   "cell_type": "code",
   "execution_count": null,
   "metadata": {
    "scrolled": true
   },
   "outputs": [],
   "source": [
    "library(DiffBind);\n",
    "library(tidyverse);\n",
    "library(rtracklayer);"
   ]
  },
  {
   "cell_type": "code",
   "execution_count": null,
   "metadata": {},
   "outputs": [],
   "source": [
    "config <- 'config_diffbind_q05.csv'"
   ]
  },
  {
   "cell_type": "code",
   "execution_count": null,
   "metadata": {},
   "outputs": [],
   "source": [
    "# read in peak info based on config file\n",
    "samples <- read.csv(config)\n",
    "samples <- samples %>% filter(Factor==\"RAD21\")\n",
    "samples"
   ]
  },
  {
   "cell_type": "code",
   "execution_count": null,
   "metadata": {},
   "outputs": [],
   "source": [
    "db <- dba(sampleSheet=samples, peakCaller='narrow',\n",
    "    config=data.frame(AnalysisMethod=DBA_DESEQ2,th=0.05,\n",
    "                      DataType=DBA_DATA_FRAME, RunParallel=TRUE, \n",
    "                      minQCth=20, fragmentSize=250, \n",
    "                      bCorPlot=FALSE, reportInit=\"DBA\", \n",
    "                      bUsePval=FALSE, design=TRUE,\n",
    "                      doBlacklist=TRUE,\n",
    "                      doGreylist=FALSE))"
   ]
  },
  {
   "cell_type": "code",
   "execution_count": null,
   "metadata": {},
   "outputs": [],
   "source": [
    "# remove blacklist regions\n",
    "db <- dba.blacklist(db, blacklist=DBA_BLACKLIST_MM9)"
   ]
  },
  {
   "cell_type": "code",
   "execution_count": null,
   "metadata": {},
   "outputs": [],
   "source": [
    "# count reads; default summit = 200bp (ie 400bp interval)\n",
    "db <- dba.count(db, summits=200, minOverlap=1, bParallel=FALSE)"
   ]
  },
  {
   "cell_type": "code",
   "execution_count": null,
   "metadata": {},
   "outputs": [],
   "source": [
    "# save peak counts\n",
    "for (i in 1:nrow(samples)){\n",
    "    samplename <- db$samples$SampleID[i]\n",
    "    db$peaks[[i]]['sample'] <- samplename\n",
    "}\n",
    "y <- do.call(rbind, db$peaks)\n",
    "write.csv(y, file='Y7ASYNC_RAD21_peak_counts_q05.csv', row.names = FALSE)\n",
    "write.csv(db$called, file='Y7ASYNC_RAD21_peak_occupancy_q05.csv', row.names = FALSE)"
   ]
  }
 ],
 "metadata": {
  "kernelspec": {
   "display_name": "R",
   "language": "R",
   "name": "ir"
  },
  "language_info": {
   "codemirror_mode": "r",
   "file_extension": ".r",
   "mimetype": "text/x-r-source",
   "name": "R",
   "pygments_lexer": "r",
   "version": "4.1.0"
  }
 },
 "nbformat": 4,
 "nbformat_minor": 4
}
