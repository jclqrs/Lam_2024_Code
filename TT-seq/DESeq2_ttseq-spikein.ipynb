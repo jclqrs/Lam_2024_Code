{
 "cells": [
  {
   "cell_type": "markdown",
   "metadata": {},
   "source": [
    "# YY1-AID TT-seq Differential Expression Analysis"
   ]
  },
  {
   "cell_type": "code",
   "execution_count": 1,
   "metadata": {
    "scrolled": true
   },
   "outputs": [
    {
     "name": "stderr",
     "output_type": "stream",
     "text": [
      "Loading required package: S4Vectors\n",
      "\n",
      "Loading required package: stats4\n",
      "\n",
      "Loading required package: BiocGenerics\n",
      "\n",
      "Loading required package: parallel\n",
      "\n",
      "\n",
      "Attaching package: ‘BiocGenerics’\n",
      "\n",
      "\n",
      "The following objects are masked from ‘package:parallel’:\n",
      "\n",
      "    clusterApply, clusterApplyLB, clusterCall, clusterEvalQ,\n",
      "    clusterExport, clusterMap, parApply, parCapply, parLapply,\n",
      "    parLapplyLB, parRapply, parSapply, parSapplyLB\n",
      "\n",
      "\n",
      "The following objects are masked from ‘package:stats’:\n",
      "\n",
      "    IQR, mad, sd, var, xtabs\n",
      "\n",
      "\n",
      "The following objects are masked from ‘package:base’:\n",
      "\n",
      "    anyDuplicated, append, as.data.frame, basename, cbind, colnames,\n",
      "    dirname, do.call, duplicated, eval, evalq, Filter, Find, get, grep,\n",
      "    grepl, intersect, is.unsorted, lapply, Map, mapply, match, mget,\n",
      "    order, paste, pmax, pmax.int, pmin, pmin.int, Position, rank,\n",
      "    rbind, Reduce, rownames, sapply, setdiff, sort, table, tapply,\n",
      "    union, unique, unsplit, which.max, which.min\n",
      "\n",
      "\n",
      "\n",
      "Attaching package: ‘S4Vectors’\n",
      "\n",
      "\n",
      "The following objects are masked from ‘package:base’:\n",
      "\n",
      "    expand.grid, I, unname\n",
      "\n",
      "\n",
      "Loading required package: IRanges\n",
      "\n",
      "Loading required package: GenomicRanges\n",
      "\n",
      "Loading required package: GenomeInfoDb\n",
      "\n",
      "Loading required package: SummarizedExperiment\n",
      "\n",
      "Loading required package: MatrixGenerics\n",
      "\n",
      "Loading required package: matrixStats\n",
      "\n",
      "\n",
      "Attaching package: ‘MatrixGenerics’\n",
      "\n",
      "\n",
      "The following objects are masked from ‘package:matrixStats’:\n",
      "\n",
      "    colAlls, colAnyNAs, colAnys, colAvgsPerRowSet, colCollapse,\n",
      "    colCounts, colCummaxs, colCummins, colCumprods, colCumsums,\n",
      "    colDiffs, colIQRDiffs, colIQRs, colLogSumExps, colMadDiffs,\n",
      "    colMads, colMaxs, colMeans2, colMedians, colMins, colOrderStats,\n",
      "    colProds, colQuantiles, colRanges, colRanks, colSdDiffs, colSds,\n",
      "    colSums2, colTabulates, colVarDiffs, colVars, colWeightedMads,\n",
      "    colWeightedMeans, colWeightedMedians, colWeightedSds,\n",
      "    colWeightedVars, rowAlls, rowAnyNAs, rowAnys, rowAvgsPerColSet,\n",
      "    rowCollapse, rowCounts, rowCummaxs, rowCummins, rowCumprods,\n",
      "    rowCumsums, rowDiffs, rowIQRDiffs, rowIQRs, rowLogSumExps,\n",
      "    rowMadDiffs, rowMads, rowMaxs, rowMeans2, rowMedians, rowMins,\n",
      "    rowOrderStats, rowProds, rowQuantiles, rowRanges, rowRanks,\n",
      "    rowSdDiffs, rowSds, rowSums2, rowTabulates, rowVarDiffs, rowVars,\n",
      "    rowWeightedMads, rowWeightedMeans, rowWeightedMedians,\n",
      "    rowWeightedSds, rowWeightedVars\n",
      "\n",
      "\n",
      "Loading required package: Biobase\n",
      "\n",
      "Welcome to Bioconductor\n",
      "\n",
      "    Vignettes contain introductory material; view with\n",
      "    'browseVignettes()'. To cite Bioconductor, see\n",
      "    'citation(\"Biobase\")', and for packages 'citation(\"pkgname\")'.\n",
      "\n",
      "\n",
      "\n",
      "Attaching package: ‘Biobase’\n",
      "\n",
      "\n",
      "The following object is masked from ‘package:MatrixGenerics’:\n",
      "\n",
      "    rowMedians\n",
      "\n",
      "\n",
      "The following objects are masked from ‘package:matrixStats’:\n",
      "\n",
      "    anyMissing, rowMedians\n",
      "\n",
      "\n",
      "── \u001b[1mAttaching packages\u001b[22m ─────────────────────────────────────── tidyverse 1.3.1 ──\n",
      "\n",
      "\u001b[32m✔\u001b[39m \u001b[34mggplot2\u001b[39m 3.5.0     \u001b[32m✔\u001b[39m \u001b[34mpurrr  \u001b[39m 1.0.2\n",
      "\u001b[32m✔\u001b[39m \u001b[34mtibble \u001b[39m 3.2.1     \u001b[32m✔\u001b[39m \u001b[34mdplyr  \u001b[39m 1.1.4\n",
      "\u001b[32m✔\u001b[39m \u001b[34mtidyr  \u001b[39m 1.3.1     \u001b[32m✔\u001b[39m \u001b[34mstringr\u001b[39m 1.5.1\n",
      "\u001b[32m✔\u001b[39m \u001b[34mreadr  \u001b[39m 1.4.0     \u001b[32m✔\u001b[39m \u001b[34mforcats\u001b[39m 0.5.1\n",
      "\n",
      "── \u001b[1mConflicts\u001b[22m ────────────────────────────────────────── tidyverse_conflicts() ──\n",
      "\u001b[31m✖\u001b[39m \u001b[34mdplyr\u001b[39m::\u001b[32mcollapse()\u001b[39m   masks \u001b[34mIRanges\u001b[39m::collapse()\n",
      "\u001b[31m✖\u001b[39m \u001b[34mdplyr\u001b[39m::\u001b[32mcombine()\u001b[39m    masks \u001b[34mBiobase\u001b[39m::combine(), \u001b[34mBiocGenerics\u001b[39m::combine()\n",
      "\u001b[31m✖\u001b[39m \u001b[34mdplyr\u001b[39m::\u001b[32mcount()\u001b[39m      masks \u001b[34mmatrixStats\u001b[39m::count()\n",
      "\u001b[31m✖\u001b[39m \u001b[34mdplyr\u001b[39m::\u001b[32mdesc()\u001b[39m       masks \u001b[34mIRanges\u001b[39m::desc()\n",
      "\u001b[31m✖\u001b[39m \u001b[34mtidyr\u001b[39m::\u001b[32mexpand()\u001b[39m     masks \u001b[34mS4Vectors\u001b[39m::expand()\n",
      "\u001b[31m✖\u001b[39m \u001b[34mdplyr\u001b[39m::\u001b[32mfilter()\u001b[39m     masks \u001b[34mstats\u001b[39m::filter()\n",
      "\u001b[31m✖\u001b[39m \u001b[34mdplyr\u001b[39m::\u001b[32mfirst()\u001b[39m      masks \u001b[34mS4Vectors\u001b[39m::first()\n",
      "\u001b[31m✖\u001b[39m \u001b[34mdplyr\u001b[39m::\u001b[32mlag()\u001b[39m        masks \u001b[34mstats\u001b[39m::lag()\n",
      "\u001b[31m✖\u001b[39m \u001b[34mggplot2\u001b[39m::\u001b[32mPosition()\u001b[39m masks \u001b[34mBiocGenerics\u001b[39m::Position(), \u001b[34mbase\u001b[39m::Position()\n",
      "\u001b[31m✖\u001b[39m \u001b[34mpurrr\u001b[39m::\u001b[32mreduce()\u001b[39m     masks \u001b[34mGenomicRanges\u001b[39m::reduce(), \u001b[34mIRanges\u001b[39m::reduce()\n",
      "\u001b[31m✖\u001b[39m \u001b[34mdplyr\u001b[39m::\u001b[32mrename()\u001b[39m     masks \u001b[34mS4Vectors\u001b[39m::rename()\n",
      "\u001b[31m✖\u001b[39m \u001b[34mdplyr\u001b[39m::\u001b[32mslice()\u001b[39m      masks \u001b[34mIRanges\u001b[39m::slice()\n",
      "\n"
     ]
    }
   ],
   "source": [
    "library(DESeq2)\n",
    "library(tidyverse)\n",
    "library(RColorBrewer)\n",
    "library(pheatmap)\n",
    "library(DEGreport)\n",
    "library(tximport)\n",
    "library(ggplot2)\n",
    "library(ggrepel)"
   ]
  },
  {
   "cell_type": "markdown",
   "metadata": {},
   "source": [
    "## Import data"
   ]
  },
  {
   "cell_type": "code",
   "execution_count": 2,
   "metadata": {},
   "outputs": [],
   "source": [
    "counts <- 'YY1aid_ttseq_sample_counts.txt'\n"
   ]
  },
  {
   "cell_type": "code",
   "execution_count": 3,
   "metadata": {},
   "outputs": [
    {
     "data": {
      "text/html": [
       "<style>\n",
       ".list-inline {list-style: none; margin:0; padding: 0}\n",
       ".list-inline>li {display: inline-block}\n",
       ".list-inline>li:not(:last-child)::after {content: \"\\00b7\"; padding: 0 .5ex}\n",
       "</style>\n",
       "<ol class=list-inline><li>'gene'</li><li>'rep1_untreated'</li><li>'rep3_untreated'</li><li>'rep1_auxin'</li><li>'rep3_auxin'</li><li>'rep2_untreated'</li><li>'rep2_auxin'</li></ol>\n"
      ],
      "text/latex": [
       "\\begin{enumerate*}\n",
       "\\item 'gene'\n",
       "\\item 'rep1\\_untreated'\n",
       "\\item 'rep3\\_untreated'\n",
       "\\item 'rep1\\_auxin'\n",
       "\\item 'rep3\\_auxin'\n",
       "\\item 'rep2\\_untreated'\n",
       "\\item 'rep2\\_auxin'\n",
       "\\end{enumerate*}\n"
      ],
      "text/markdown": [
       "1. 'gene'\n",
       "2. 'rep1_untreated'\n",
       "3. 'rep3_untreated'\n",
       "4. 'rep1_auxin'\n",
       "5. 'rep3_auxin'\n",
       "6. 'rep2_untreated'\n",
       "7. 'rep2_auxin'\n",
       "\n",
       "\n"
      ],
      "text/plain": [
       "[1] \"gene\"           \"rep1_untreated\" \"rep3_untreated\" \"rep1_auxin\"    \n",
       "[5] \"rep3_auxin\"     \"rep2_untreated\" \"rep2_auxin\"    "
      ]
     },
     "metadata": {},
     "output_type": "display_data"
    }
   ],
   "source": [
    "# read counts generated by deeptools\n",
    "tab <- read.table(counts, header=TRUE, comment.char='_', strip.white = TRUE,)\n",
    "names(tab) <- c('gene', 'rep1_untreated', 'rep3_untreated',\n",
    "               'rep1_auxin','rep3_auxin',\n",
    "               'rep2_untreated','rep2_auxin')\n",
    "names(tab)\n",
    "\n",
    "tab <- data.frame(tab) %>% distinct()\n"
   ]
  },
  {
   "cell_type": "code",
   "execution_count": 4,
   "metadata": {
    "scrolled": true
   },
   "outputs": [
    {
     "data": {
      "text/html": [
       "25208"
      ],
      "text/latex": [
       "25208"
      ],
      "text/markdown": [
       "25208"
      ],
      "text/plain": [
       "[1] 25208"
      ]
     },
     "metadata": {},
     "output_type": "display_data"
    }
   ],
   "source": [
    "# merge genes with txi\n",
    "txi <- tab\n",
    "rownames(txi) <- txi$gene\n",
    "nrow(txi)"
   ]
  },
  {
   "cell_type": "code",
   "execution_count": 5,
   "metadata": {},
   "outputs": [],
   "source": [
    "# make count matrix\n",
    "txi$counts <- data.matrix(txi[names(txi)[2:7]])\n"
   ]
  },
  {
   "cell_type": "code",
   "execution_count": 6,
   "metadata": {},
   "outputs": [
    {
     "data": {
      "text/html": [
       "<table class=\"dataframe\">\n",
       "<caption>A matrix: 6 × 6 of type int</caption>\n",
       "<thead>\n",
       "\t<tr><th></th><th scope=col>rep1_untreated</th><th scope=col>rep3_untreated</th><th scope=col>rep1_auxin</th><th scope=col>rep3_auxin</th><th scope=col>rep2_untreated</th><th scope=col>rep2_auxin</th></tr>\n",
       "</thead>\n",
       "<tbody>\n",
       "\t<tr><th scope=row>0610009B22Rik</th><td> 169</td><td> 199</td><td> 198</td><td> 267</td><td> 304</td><td> 447</td></tr>\n",
       "\t<tr><th scope=row>0610009E02Rik</th><td>  77</td><td> 106</td><td>  85</td><td> 176</td><td> 210</td><td> 288</td></tr>\n",
       "\t<tr><th scope=row>0610009L18Rik</th><td>  18</td><td>  27</td><td>   8</td><td>  42</td><td>   5</td><td>  20</td></tr>\n",
       "\t<tr><th scope=row>0610010F05Rik</th><td>1565</td><td>2160</td><td>1812</td><td>3221</td><td>3445</td><td>5366</td></tr>\n",
       "\t<tr><th scope=row>0610010K14Rik</th><td> 167</td><td> 176</td><td> 181</td><td> 187</td><td> 218</td><td> 267</td></tr>\n",
       "\t<tr><th scope=row>0610012G03Rik</th><td>  86</td><td> 103</td><td> 100</td><td>  89</td><td>  97</td><td> 106</td></tr>\n",
       "</tbody>\n",
       "</table>\n"
      ],
      "text/latex": [
       "A matrix: 6 × 6 of type int\n",
       "\\begin{tabular}{r|llllll}\n",
       "  & rep1\\_untreated & rep3\\_untreated & rep1\\_auxin & rep3\\_auxin & rep2\\_untreated & rep2\\_auxin\\\\\n",
       "\\hline\n",
       "\t0610009B22Rik &  169 &  199 &  198 &  267 &  304 &  447\\\\\n",
       "\t0610009E02Rik &   77 &  106 &   85 &  176 &  210 &  288\\\\\n",
       "\t0610009L18Rik &   18 &   27 &    8 &   42 &    5 &   20\\\\\n",
       "\t0610010F05Rik & 1565 & 2160 & 1812 & 3221 & 3445 & 5366\\\\\n",
       "\t0610010K14Rik &  167 &  176 &  181 &  187 &  218 &  267\\\\\n",
       "\t0610012G03Rik &   86 &  103 &  100 &   89 &   97 &  106\\\\\n",
       "\\end{tabular}\n"
      ],
      "text/markdown": [
       "\n",
       "A matrix: 6 × 6 of type int\n",
       "\n",
       "| <!--/--> | rep1_untreated | rep3_untreated | rep1_auxin | rep3_auxin | rep2_untreated | rep2_auxin |\n",
       "|---|---|---|---|---|---|---|\n",
       "| 0610009B22Rik |  169 |  199 |  198 |  267 |  304 |  447 |\n",
       "| 0610009E02Rik |   77 |  106 |   85 |  176 |  210 |  288 |\n",
       "| 0610009L18Rik |   18 |   27 |    8 |   42 |    5 |   20 |\n",
       "| 0610010F05Rik | 1565 | 2160 | 1812 | 3221 | 3445 | 5366 |\n",
       "| 0610010K14Rik |  167 |  176 |  181 |  187 |  218 |  267 |\n",
       "| 0610012G03Rik |   86 |  103 |  100 |   89 |   97 |  106 |\n",
       "\n"
      ],
      "text/plain": [
       "              rep1_untreated rep3_untreated rep1_auxin rep3_auxin\n",
       "0610009B22Rik  169            199            198        267      \n",
       "0610009E02Rik   77            106             85        176      \n",
       "0610009L18Rik   18             27              8         42      \n",
       "0610010F05Rik 1565           2160           1812       3221      \n",
       "0610010K14Rik  167            176            181        187      \n",
       "0610012G03Rik   86            103            100         89      \n",
       "              rep2_untreated rep2_auxin\n",
       "0610009B22Rik  304            447      \n",
       "0610009E02Rik  210            288      \n",
       "0610009L18Rik    5             20      \n",
       "0610010F05Rik 3445           5366      \n",
       "0610010K14Rik  218            267      \n",
       "0610012G03Rik   97            106      "
      ]
     },
     "metadata": {},
     "output_type": "display_data"
    }
   ],
   "source": [
    "head(txi$counts)"
   ]
  },
  {
   "cell_type": "code",
   "execution_count": 7,
   "metadata": {},
   "outputs": [
    {
     "data": {
      "text/html": [
       "<table class=\"dataframe\">\n",
       "<caption>A data.frame: 6 × 2</caption>\n",
       "<thead>\n",
       "\t<tr><th></th><th scope=col>sampletype</th><th scope=col>rep</th></tr>\n",
       "\t<tr><th></th><th scope=col>&lt;fct&gt;</th><th scope=col>&lt;chr&gt;</th></tr>\n",
       "</thead>\n",
       "<tbody>\n",
       "\t<tr><th scope=row>rep1_untreated</th><td>untreated</td><td>rep1</td></tr>\n",
       "\t<tr><th scope=row>rep3_untreated</th><td>untreated</td><td>rep3</td></tr>\n",
       "\t<tr><th scope=row>rep1_auxin</th><td>auxin    </td><td>rep1</td></tr>\n",
       "\t<tr><th scope=row>rep3_auxin</th><td>auxin    </td><td>rep3</td></tr>\n",
       "\t<tr><th scope=row>rep2_untreated</th><td>untreated</td><td>rep2</td></tr>\n",
       "\t<tr><th scope=row>rep2_auxin</th><td>auxin    </td><td>rep2</td></tr>\n",
       "</tbody>\n",
       "</table>\n"
      ],
      "text/latex": [
       "A data.frame: 6 × 2\n",
       "\\begin{tabular}{r|ll}\n",
       "  & sampletype & rep\\\\\n",
       "  & <fct> & <chr>\\\\\n",
       "\\hline\n",
       "\trep1\\_untreated & untreated & rep1\\\\\n",
       "\trep3\\_untreated & untreated & rep3\\\\\n",
       "\trep1\\_auxin & auxin     & rep1\\\\\n",
       "\trep3\\_auxin & auxin     & rep3\\\\\n",
       "\trep2\\_untreated & untreated & rep2\\\\\n",
       "\trep2\\_auxin & auxin     & rep2\\\\\n",
       "\\end{tabular}\n"
      ],
      "text/markdown": [
       "\n",
       "A data.frame: 6 × 2\n",
       "\n",
       "| <!--/--> | sampletype &lt;fct&gt; | rep &lt;chr&gt; |\n",
       "|---|---|---|\n",
       "| rep1_untreated | untreated | rep1 |\n",
       "| rep3_untreated | untreated | rep3 |\n",
       "| rep1_auxin | auxin     | rep1 |\n",
       "| rep3_auxin | auxin     | rep3 |\n",
       "| rep2_untreated | untreated | rep2 |\n",
       "| rep2_auxin | auxin     | rep2 |\n",
       "\n"
      ],
      "text/plain": [
       "               sampletype rep \n",
       "rep1_untreated untreated  rep1\n",
       "rep3_untreated untreated  rep3\n",
       "rep1_auxin     auxin      rep1\n",
       "rep3_auxin     auxin      rep3\n",
       "rep2_untreated untreated  rep2\n",
       "rep2_auxin     auxin      rep2"
      ]
     },
     "metadata": {},
     "output_type": "display_data"
    }
   ],
   "source": [
    "## Create a sampletable/metadata\n",
    "sampletype <- factor(c('untreated', 'untreated', 'auxin', 'auxin', 'untreated', 'auxin'))\n",
    "meta <- data.frame(sampletype, row.names = colnames(txi$counts))\n",
    "meta$rep <- c('rep1', 'rep3', 'rep1', 'rep3', 'rep2', 'rep2')\n",
    "meta"
   ]
  },
  {
   "cell_type": "markdown",
   "metadata": {},
   "source": [
    "## Generate normalized counts\n",
    "note - normalized counts shouldnt be used for DESeq2 step"
   ]
  },
  {
   "cell_type": "code",
   "execution_count": 8,
   "metadata": {},
   "outputs": [
    {
     "data": {
      "text/html": [
       "TRUE"
      ],
      "text/latex": [
       "TRUE"
      ],
      "text/markdown": [
       "TRUE"
      ],
      "text/plain": [
       "[1] TRUE"
      ]
     },
     "metadata": {},
     "output_type": "display_data"
    },
    {
     "data": {
      "text/html": [
       "TRUE"
      ],
      "text/latex": [
       "TRUE"
      ],
      "text/markdown": [
       "TRUE"
      ],
      "text/plain": [
       "[1] TRUE"
      ]
     },
     "metadata": {},
     "output_type": "display_data"
    }
   ],
   "source": [
    "### Check that sample names match in both files\n",
    "all(colnames(txi$counts) %in% rownames(meta))\n",
    "all(colnames(txi$counts) == rownames(meta))"
   ]
  },
  {
   "cell_type": "code",
   "execution_count": 9,
   "metadata": {},
   "outputs": [
    {
     "name": "stderr",
     "output_type": "stream",
     "text": [
      "Warning message in DESeqDataSet(se, design = design, ignoreRank):\n",
      "“some variables in design formula are characters, converting to factors”\n"
     ]
    }
   ],
   "source": [
    "# create deseq2 object\n",
    "dds <- DESeqDataSetFromMatrix(countData=txi$counts, colData = meta, design = ~ sampletype+rep)"
   ]
  },
  {
   "cell_type": "code",
   "execution_count": 10,
   "metadata": {},
   "outputs": [],
   "source": [
    "# dds <- estimateSizeFactors(dds)"
   ]
  },
  {
   "cell_type": "markdown",
   "metadata": {},
   "source": [
    "\"The sizeFactors vector assigns to each column of the count matrix a value, the size factor, such that count values in the columns can be brought to a common scale by dividing by the corresponding size factor \""
   ]
  },
  {
   "cell_type": "markdown",
   "metadata": {},
   "source": [
    "# estimate sizefactors w drosophila spike-in"
   ]
  },
  {
   "cell_type": "code",
   "execution_count": 11,
   "metadata": {},
   "outputs": [
    {
     "data": {
      "text/html": [
       "17136"
      ],
      "text/latex": [
       "17136"
      ],
      "text/markdown": [
       "17136"
      ],
      "text/plain": [
       "[1] 17136"
      ]
     },
     "metadata": {},
     "output_type": "display_data"
    }
   ],
   "source": [
    "dm6 <- read.table('YY1aid_ttseq_spikein_counts.txt', header=TRUE, comment.char='_', strip.white = TRUE,)\n",
    "names(dm6) <- c('gene', 'rep1_untreated', 'drop', 'rep3_untreated',\n",
    "               'rep1_auxin','rep3_auxin',\n",
    "               'rep2_untreated','rep2_auxin')\n",
    "dm6 <- dm6[,c('gene', 'rep1_untreated', 'rep3_untreated',\n",
    "               'rep1_auxin','rep3_auxin',\n",
    "               'rep2_untreated','rep2_auxin')]\n",
    "\n",
    "# make count matrix\n",
    "dm6$counts <- data.matrix(dm6[names(dm6)[2:7]])\n",
    "rownames(dm6) <- dm6$gene\n",
    "nrow(dm6)\n",
    "\n",
    "# create deseq2 object\n",
    "spike <- DESeqDataSetFromMatrix(countData=dm6$counts, colData = meta, design = ~sampletype)\n",
    "\n",
    "spike <- estimateSizeFactors(spike)"
   ]
  },
  {
   "cell_type": "code",
   "execution_count": 12,
   "metadata": {},
   "outputs": [
    {
     "data": {
      "text/html": [
       "<table class=\"dataframe\">\n",
       "<caption>A data.frame: 6 × 1</caption>\n",
       "<thead>\n",
       "\t<tr><th></th><th scope=col>sizeFactors.spike.</th></tr>\n",
       "\t<tr><th></th><th scope=col>&lt;dbl&gt;</th></tr>\n",
       "</thead>\n",
       "<tbody>\n",
       "\t<tr><th scope=row>rep1_untreated</th><td>1.4200556</td></tr>\n",
       "\t<tr><th scope=row>rep3_untreated</th><td>0.8806227</td></tr>\n",
       "\t<tr><th scope=row>rep1_auxin</th><td>1.2555608</td></tr>\n",
       "\t<tr><th scope=row>rep3_auxin</th><td>1.0256353</td></tr>\n",
       "\t<tr><th scope=row>rep2_untreated</th><td>0.7027731</td></tr>\n",
       "\t<tr><th scope=row>rep2_auxin</th><td>0.9273714</td></tr>\n",
       "</tbody>\n",
       "</table>\n"
      ],
      "text/latex": [
       "A data.frame: 6 × 1\n",
       "\\begin{tabular}{r|l}\n",
       "  & sizeFactors.spike.\\\\\n",
       "  & <dbl>\\\\\n",
       "\\hline\n",
       "\trep1\\_untreated & 1.4200556\\\\\n",
       "\trep3\\_untreated & 0.8806227\\\\\n",
       "\trep1\\_auxin & 1.2555608\\\\\n",
       "\trep3\\_auxin & 1.0256353\\\\\n",
       "\trep2\\_untreated & 0.7027731\\\\\n",
       "\trep2\\_auxin & 0.9273714\\\\\n",
       "\\end{tabular}\n"
      ],
      "text/markdown": [
       "\n",
       "A data.frame: 6 × 1\n",
       "\n",
       "| <!--/--> | sizeFactors.spike. &lt;dbl&gt; |\n",
       "|---|---|\n",
       "| rep1_untreated | 1.4200556 |\n",
       "| rep3_untreated | 0.8806227 |\n",
       "| rep1_auxin | 1.2555608 |\n",
       "| rep3_auxin | 1.0256353 |\n",
       "| rep2_untreated | 0.7027731 |\n",
       "| rep2_auxin | 0.9273714 |\n",
       "\n"
      ],
      "text/plain": [
       "               sizeFactors.spike.\n",
       "rep1_untreated 1.4200556         \n",
       "rep3_untreated 0.8806227         \n",
       "rep1_auxin     1.2555608         \n",
       "rep3_auxin     1.0256353         \n",
       "rep2_untreated 0.7027731         \n",
       "rep2_auxin     0.9273714         "
      ]
     },
     "metadata": {},
     "output_type": "display_data"
    }
   ],
   "source": [
    "data.frame(sizeFactors(spike))"
   ]
  },
  {
   "cell_type": "code",
   "execution_count": 13,
   "metadata": {},
   "outputs": [],
   "source": [
    "write.table(data.frame(sizeFactors(spike)), file=\"./spikein_sizefactors.txt\", sep=\"\\t\", quote=F, col.names=NA)\n"
   ]
  },
  {
   "cell_type": "code",
   "execution_count": 14,
   "metadata": {},
   "outputs": [],
   "source": [
    "sizeFactors(dds) <- sizeFactors(spike)"
   ]
  },
  {
   "cell_type": "code",
   "execution_count": 15,
   "metadata": {},
   "outputs": [],
   "source": [
    "normalized_counts <- counts(dds, normalized=TRUE)\n",
    "write.table(normalized_counts, file=\"./SPIKE_normalized_counts.txt\", sep=\"\\t\", quote=F, col.names=NA)\n"
   ]
  },
  {
   "cell_type": "markdown",
   "metadata": {},
   "source": [
    "## QC"
   ]
  },
  {
   "cell_type": "code",
   "execution_count": 16,
   "metadata": {},
   "outputs": [],
   "source": [
    "### Transform counts for data visualization\n",
    "rld <- rlog(dds, blind=TRUE)"
   ]
  },
  {
   "cell_type": "code",
   "execution_count": 17,
   "metadata": {},
   "outputs": [
    {
     "data": {
      "text/html": [
       "<strong>png:</strong> 2"
      ],
      "text/latex": [
       "\\textbf{png:} 2"
      ],
      "text/markdown": [
       "**png:** 2"
      ],
      "text/plain": [
       "png \n",
       "  2 "
      ]
     },
     "metadata": {},
     "output_type": "display_data"
    }
   ],
   "source": [
    "### Plot PCA  - SAVE\n",
    "pdf(file=\"SPIKE_PCA_normalized_rlogtransform.pdf\")\n",
    "\n",
    "pcaData <- plotPCA(rld, intgroup=c(\"sampletype\", \"rep\"), returnData=TRUE)\n",
    "percentVar <- round(100 * attr(pcaData, \"percentVar\"))\n",
    "ggplot(pcaData, aes(PC1, PC2, color=sampletype, shape=rep)) +\n",
    "  geom_point(size=3) +\n",
    "  xlab(paste0(\"PC1: \",percentVar[1],\"% variance\")) +\n",
    "  ylab(paste0(\"PC2: \",percentVar[2],\"% variance\")) + \n",
    "  coord_fixed() + \n",
    "  theme_classic()\n",
    "\n",
    "dev.off()"
   ]
  },
  {
   "cell_type": "code",
   "execution_count": 18,
   "metadata": {},
   "outputs": [],
   "source": [
    "### Extract the rlog matrix from the object\n",
    "rld_mat <- assay(rld)   \n",
    "\n",
    "### Compute pairwise correlation values\n",
    "rld_cor <- cor(rld_mat)    ## cor() is a base R function"
   ]
  },
  {
   "cell_type": "code",
   "execution_count": 19,
   "metadata": {},
   "outputs": [
    {
     "data": {
      "text/html": [
       "<table class=\"dataframe\">\n",
       "<caption>A matrix: 6 × 6 of type dbl</caption>\n",
       "<thead>\n",
       "\t<tr><th></th><th scope=col>rep1_untreated</th><th scope=col>rep3_untreated</th><th scope=col>rep1_auxin</th><th scope=col>rep3_auxin</th><th scope=col>rep2_untreated</th><th scope=col>rep2_auxin</th></tr>\n",
       "</thead>\n",
       "<tbody>\n",
       "\t<tr><th scope=row>rep1_untreated</th><td>1.0000000</td><td>0.9996365</td><td>0.9996716</td><td>0.9993842</td><td>0.9993222</td><td>0.9990192</td></tr>\n",
       "\t<tr><th scope=row>rep3_untreated</th><td>0.9996365</td><td>1.0000000</td><td>0.9995150</td><td>0.9995331</td><td>0.9995253</td><td>0.9992316</td></tr>\n",
       "\t<tr><th scope=row>rep1_auxin</th><td>0.9996716</td><td>0.9995150</td><td>1.0000000</td><td>0.9995936</td><td>0.9992196</td><td>0.9992945</td></tr>\n",
       "\t<tr><th scope=row>rep3_auxin</th><td>0.9993842</td><td>0.9995331</td><td>0.9995936</td><td>1.0000000</td><td>0.9993211</td><td>0.9995281</td></tr>\n",
       "\t<tr><th scope=row>rep2_untreated</th><td>0.9993222</td><td>0.9995253</td><td>0.9992196</td><td>0.9993211</td><td>1.0000000</td><td>0.9993642</td></tr>\n",
       "\t<tr><th scope=row>rep2_auxin</th><td>0.9990192</td><td>0.9992316</td><td>0.9992945</td><td>0.9995281</td><td>0.9993642</td><td>1.0000000</td></tr>\n",
       "</tbody>\n",
       "</table>\n"
      ],
      "text/latex": [
       "A matrix: 6 × 6 of type dbl\n",
       "\\begin{tabular}{r|llllll}\n",
       "  & rep1\\_untreated & rep3\\_untreated & rep1\\_auxin & rep3\\_auxin & rep2\\_untreated & rep2\\_auxin\\\\\n",
       "\\hline\n",
       "\trep1\\_untreated & 1.0000000 & 0.9996365 & 0.9996716 & 0.9993842 & 0.9993222 & 0.9990192\\\\\n",
       "\trep3\\_untreated & 0.9996365 & 1.0000000 & 0.9995150 & 0.9995331 & 0.9995253 & 0.9992316\\\\\n",
       "\trep1\\_auxin & 0.9996716 & 0.9995150 & 1.0000000 & 0.9995936 & 0.9992196 & 0.9992945\\\\\n",
       "\trep3\\_auxin & 0.9993842 & 0.9995331 & 0.9995936 & 1.0000000 & 0.9993211 & 0.9995281\\\\\n",
       "\trep2\\_untreated & 0.9993222 & 0.9995253 & 0.9992196 & 0.9993211 & 1.0000000 & 0.9993642\\\\\n",
       "\trep2\\_auxin & 0.9990192 & 0.9992316 & 0.9992945 & 0.9995281 & 0.9993642 & 1.0000000\\\\\n",
       "\\end{tabular}\n"
      ],
      "text/markdown": [
       "\n",
       "A matrix: 6 × 6 of type dbl\n",
       "\n",
       "| <!--/--> | rep1_untreated | rep3_untreated | rep1_auxin | rep3_auxin | rep2_untreated | rep2_auxin |\n",
       "|---|---|---|---|---|---|---|\n",
       "| rep1_untreated | 1.0000000 | 0.9996365 | 0.9996716 | 0.9993842 | 0.9993222 | 0.9990192 |\n",
       "| rep3_untreated | 0.9996365 | 1.0000000 | 0.9995150 | 0.9995331 | 0.9995253 | 0.9992316 |\n",
       "| rep1_auxin | 0.9996716 | 0.9995150 | 1.0000000 | 0.9995936 | 0.9992196 | 0.9992945 |\n",
       "| rep3_auxin | 0.9993842 | 0.9995331 | 0.9995936 | 1.0000000 | 0.9993211 | 0.9995281 |\n",
       "| rep2_untreated | 0.9993222 | 0.9995253 | 0.9992196 | 0.9993211 | 1.0000000 | 0.9993642 |\n",
       "| rep2_auxin | 0.9990192 | 0.9992316 | 0.9992945 | 0.9995281 | 0.9993642 | 1.0000000 |\n",
       "\n"
      ],
      "text/plain": [
       "               rep1_untreated rep3_untreated rep1_auxin rep3_auxin\n",
       "rep1_untreated 1.0000000      0.9996365      0.9996716  0.9993842 \n",
       "rep3_untreated 0.9996365      1.0000000      0.9995150  0.9995331 \n",
       "rep1_auxin     0.9996716      0.9995150      1.0000000  0.9995936 \n",
       "rep3_auxin     0.9993842      0.9995331      0.9995936  1.0000000 \n",
       "rep2_untreated 0.9993222      0.9995253      0.9992196  0.9993211 \n",
       "rep2_auxin     0.9990192      0.9992316      0.9992945  0.9995281 \n",
       "               rep2_untreated rep2_auxin\n",
       "rep1_untreated 0.9993222      0.9990192 \n",
       "rep3_untreated 0.9995253      0.9992316 \n",
       "rep1_auxin     0.9992196      0.9992945 \n",
       "rep3_auxin     0.9993211      0.9995281 \n",
       "rep2_untreated 1.0000000      0.9993642 \n",
       "rep2_auxin     0.9993642      1.0000000 "
      ]
     },
     "metadata": {},
     "output_type": "display_data"
    }
   ],
   "source": [
    "rld_cor"
   ]
  },
  {
   "cell_type": "markdown",
   "metadata": {},
   "source": [
    "## Run DESeq"
   ]
  },
  {
   "cell_type": "code",
   "execution_count": 20,
   "metadata": {},
   "outputs": [
    {
     "data": {
      "text/plain": [
       "class: DESeqDataSet \n",
       "dim: 25208 6 \n",
       "metadata(1): version\n",
       "assays(1): counts\n",
       "rownames(25208): 0610009B22Rik 0610009E02Rik ... a ccdc198\n",
       "rowData names(0):\n",
       "colnames(6): rep1_untreated rep3_untreated ... rep2_untreated\n",
       "  rep2_auxin\n",
       "colData names(3): sampletype rep sizeFactor"
      ]
     },
     "metadata": {},
     "output_type": "display_data"
    }
   ],
   "source": [
    "dds"
   ]
  },
  {
   "cell_type": "code",
   "execution_count": null,
   "metadata": {},
   "outputs": [
    {
     "name": "stderr",
     "output_type": "stream",
     "text": [
      "Warning message in DESeqDataSet(se, design = design, ignoreRank):\n",
      "“some variables in design formula are characters, converting to factors”\n",
      "using pre-existing size factors\n",
      "\n",
      "estimating dispersions\n",
      "\n",
      "gene-wise dispersion estimates\n",
      "\n"
     ]
    }
   ],
   "source": [
    "dds <- DESeqDataSetFromMatrix(countData=txi$counts, colData = meta, design = ~ sampletype + rep)\n",
    "sizeFactors(dds) <- sizeFactors(spike)\n",
    "dds <- DESeq(dds)"
   ]
  },
  {
   "cell_type": "code",
   "execution_count": null,
   "metadata": {},
   "outputs": [],
   "source": [
    "## Plot dispersion estimates\n",
    "plotDispEsts(dds)"
   ]
  },
  {
   "cell_type": "code",
   "execution_count": null,
   "metadata": {},
   "outputs": [],
   "source": [
    "pdf(file=\"SPIKE_dispersion_plot.pdf\")\n",
    "plotDispEsts(dds)\n",
    "dev.off()"
   ]
  },
  {
   "cell_type": "markdown",
   "metadata": {},
   "source": [
    "## Hypothesis testing"
   ]
  },
  {
   "cell_type": "markdown",
   "metadata": {},
   "source": [
    "### untreated vs. auxin"
   ]
  },
  {
   "cell_type": "code",
   "execution_count": null,
   "metadata": {
    "scrolled": true
   },
   "outputs": [],
   "source": [
    "dds$sampletype <- relevel(dds$sampletype, ref = \"untreated\")\n",
    "dds <- nbinomWaldTest(dds)"
   ]
  },
  {
   "cell_type": "code",
   "execution_count": null,
   "metadata": {},
   "outputs": [],
   "source": [
    "resultsNames(dds)"
   ]
  },
  {
   "cell_type": "code",
   "execution_count": null,
   "metadata": {},
   "outputs": [],
   "source": [
    "# fold change represented as log2 fold over WT\n",
    "# alpha set to FDR value, default multiple test correction = bh\n",
    "# lfcthreshold - p value corresponds to test for 0 log fold change by default\n",
    "contrast_kd <- c(\"sampletype\",\"auxin\",\"untreated\")\n",
    "\n",
    "res <- results(dds, contrast=contrast_kd, \n",
    "               lfcThreshold = 0,\n",
    "              alpha = 0.05, pAdjustMethod=\"BH\")\n",
    "\n",
    "# shrink lfc values for downstream analysis\n",
    "res <- lfcShrink(dds, res=res, coef=2)"
   ]
  },
  {
   "cell_type": "code",
   "execution_count": null,
   "metadata": {},
   "outputs": [],
   "source": [
    "summary(res, alpha=0.05)"
   ]
  },
  {
   "cell_type": "code",
   "execution_count": null,
   "metadata": {},
   "outputs": [],
   "source": [
    "# pdf(file=\"MA_plot.pdf\")\n",
    "plotMA(res, ylim=c(-2,2))\n",
    "# dev.off()\n",
    "\n"
   ]
  },
  {
   "cell_type": "code",
   "execution_count": null,
   "metadata": {},
   "outputs": [],
   "source": [
    "pdf(file=\"SPIKE_MA_plot.pdf\")\n",
    "plotMA(res, ylim=c(-2,2))\n",
    "dev.off()\n",
    "\n"
   ]
  },
  {
   "cell_type": "code",
   "execution_count": null,
   "metadata": {},
   "outputs": [],
   "source": [
    "### Set thresholds\n",
    "padj.cutoff <- 0.05\n",
    "\n",
    "# Create a tibble of results\n",
    "res_tb <- res %>%\n",
    "  data.frame() %>%\n",
    "  rownames_to_column(var=\"gene\") %>% \n",
    "  as_tibble()\n",
    "\n",
    "write.table(res_tb, \"SPIKE_ALLgenes_auxin_untreated_p05_TTseq.csv\", sep=\",\", row.names=F)\n",
    "\n",
    "\n",
    "# Subset the tibble to keep only significant genes\n",
    "sig <- res_tb %>%\n",
    "        filter(padj < padj.cutoff)\n",
    "\n",
    "\n",
    "\n",
    "# Take a quick look at this tibble\n",
    "# write.table(sig, \"significantgenes_auxin_untreated_p05_genebody.csv\", sep=\",\", row.names=F)\n",
    "\n"
   ]
  },
  {
   "cell_type": "markdown",
   "metadata": {},
   "source": [
    "## Visualize results"
   ]
  },
  {
   "cell_type": "code",
   "execution_count": null,
   "metadata": {},
   "outputs": [],
   "source": [
    "\n",
    "## Obtain logical vector where TRUE values denote padj values < 0.05 and fold change > 1.5 in either direction\n",
    "res_tb <- res_tb %>% \n",
    "                  mutate(threshold_OE = padj < 0.05 & abs(log2FoldChange) >= log2(1.5))"
   ]
  },
  {
   "cell_type": "code",
   "execution_count": null,
   "metadata": {},
   "outputs": [],
   "source": [
    "\n",
    "## Create an empty column to indicate which genes to label\n",
    "res_tb <- res_tb %>% mutate(genelabels = \"\")\n",
    "\n",
    "## Sort by padj values \n",
    "res_tb <- res_tb %>% arrange(padj)\n",
    "\n",
    "## Populate the genelabels column with contents of the gene symbols column for the first 10 rows, i.e. the top 10 most significantly expressed genes\n",
    "res_tb$genelabels[1:8] <- as.character(res_tb$gene[1:8])"
   ]
  },
  {
   "cell_type": "code",
   "execution_count": null,
   "metadata": {},
   "outputs": [],
   "source": [
    "ggplot(res_tb, aes(x = log2FoldChange, y = -log10(padj))) +\n",
    "    geom_point(aes(colour = threshold_OE), size=1) +\n",
    "    geom_text_repel(aes(label = genelabels)) +\n",
    "    scale_color_manual(values = c(\"TRUE\" = \"firebrick\", \"FALSE\" = \"grey\")) + \n",
    "    ggtitle(\"TT-seq YY1-AID\") +\n",
    "    xlab(\"log2 fold change\") + \n",
    "    ylab(\"-log10 adjusted p-value\") +\n",
    "    theme_classic() + \n",
    "    theme(legend.position = \"none\",\n",
    "          plot.title = element_text(size = rel(1.5), hjust = 0.5),\n",
    "          axis.title = element_text(size = rel(1.25))) "
   ]
  },
  {
   "cell_type": "code",
   "execution_count": null,
   "metadata": {},
   "outputs": [],
   "source": [
    "pdf(\"SPIKE_volcano_YY1aid_ttseq.pdf\")\n",
    "ggplot(res_tb, aes(x = log2FoldChange, y = -log10(padj))) +\n",
    "    geom_point(aes(colour = threshold_OE), size=1) +\n",
    "    geom_text_repel(aes(label = genelabels)) +\n",
    "    scale_color_manual(values = c(\"TRUE\" = \"firebrick\", \"FALSE\" = \"grey\")) + \n",
    "    ggtitle(\"TT-seq YY1-AID\") +\n",
    "    xlab(\"log2 fold change\") + \n",
    "    ylab(\"-log10 adjusted p-value\") +\n",
    "    theme_classic() + \n",
    "    theme(legend.position = \"none\",\n",
    "          plot.title = element_text(size = rel(1.5), hjust = 0.5),\n",
    "          axis.title = element_text(size = rel(1.25))) \n",
    "dev.off()"
   ]
  },
  {
   "cell_type": "code",
   "execution_count": null,
   "metadata": {},
   "outputs": [],
   "source": [
    "sessionInfo()"
   ]
  }
 ],
 "metadata": {
  "kernelspec": {
   "display_name": "R",
   "language": "R",
   "name": "ir"
  },
  "language_info": {
   "codemirror_mode": "r",
   "file_extension": ".r",
   "mimetype": "text/x-r-source",
   "name": "R",
   "pygments_lexer": "r",
   "version": "4.1.0"
  }
 },
 "nbformat": 4,
 "nbformat_minor": 4
}
